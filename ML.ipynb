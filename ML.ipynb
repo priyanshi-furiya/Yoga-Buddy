{
  "nbformat": 4,
  "nbformat_minor": 0,
  "metadata": {
    "colab": {
      "provenance": []
    },
    "kernelspec": {
      "name": "python3",
      "display_name": "Python 3"
    },
    "language_info": {
      "name": "python"
    }
  },
  "cells": [
    {
      "cell_type": "code",
      "execution_count": 1,
      "metadata": {
        "id": "Alnm8vcTrENK"
      },
      "outputs": [],
      "source": [
        "import pandas as pd\n",
        "landmarks = pd.read_csv(\"/content/landmarks.csv\")"
      ]
    },
    {
      "cell_type": "code",
      "source": [
        "from sklearn.model_selection import train_test_split\n",
        "from sklearn.ensemble import VotingClassifier\n",
        "from sklearn.ensemble import RandomForestClassifier\n",
        "from sklearn.tree import DecisionTreeClassifier\n",
        "from sklearn.neighbors import KNeighborsClassifier\n",
        "import matplotlib.pyplot as plt\n",
        "import re\n",
        "import csv\n",
        "import numpy as np\n",
        "from sklearn.metrics import accuracy_score\n",
        "import pickle"
      ],
      "metadata": {
        "id": "Cz5HzWZOtT_c"
      },
      "execution_count": 2,
      "outputs": []
    },
    {
      "cell_type": "code",
      "source": [
        "def read_landmarks_from_csv(file_path):\n",
        "    landmarks_data = []\n",
        "    labels = []\n",
        "\n",
        "    with open(file_path, \"r\") as file:\n",
        "        csv_reader = csv.reader(file)\n",
        "        for row in csv_reader:\n",
        "            landmarks_str = row[0]\n",
        "            label = row[1] if len(row) > 1 else \"\"\n",
        "\n",
        "            landmarks = []\n",
        "            for match in re.finditer(\n",
        "                r\"x: (\\d+\\.\\d+)\\s+y: (\\d+\\.\\d+)\\s+z: (-?\\d+\\.\\d+)\", landmarks_str\n",
        "            ):\n",
        "                x = float(match.group(1))\n",
        "                y = float(match.group(2))\n",
        "                z = float(match.group(3))\n",
        "                landmarks.extend([x, y, z])\n",
        "\n",
        "            landmarks_data.append(landmarks)\n",
        "            labels.append(label)\n",
        "\n",
        "    max_length = max(len(landmarks) for landmarks in landmarks_data)\n",
        "    landmarks_data = [\n",
        "        landmarks + [0] * (max_length - len(landmarks)) for landmarks in landmarks_data\n",
        "    ]\n",
        "\n",
        "    return np.array(landmarks_data), labels"
      ],
      "metadata": {
        "id": "TPYS5Wi0tVR4"
      },
      "execution_count": 3,
      "outputs": []
    },
    {
      "cell_type": "code",
      "source": [
        "x, y = read_landmarks_from_csv(\"/content/landmarks.csv\")"
      ],
      "metadata": {
        "id": "tRbfH0KZtYR-"
      },
      "execution_count": 4,
      "outputs": []
    },
    {
      "cell_type": "code",
      "source": [
        "x_train, x_temp, y_train, y_temp = train_test_split(x, y, test_size=0.1, random_state=10)\n",
        "\n",
        "x_val, x_test, y_val, y_test = train_test_split(x_temp, y_temp, test_size=0.2, random_state=10)"
      ],
      "metadata": {
        "id": "d50r1duTth1b"
      },
      "execution_count": 5,
      "outputs": []
    },
    {
      "cell_type": "code",
      "source": [
        "\n",
        "# Import necessary libraries\n",
        "from sklearn.linear_model import LogisticRegression\n",
        "from sklearn.svm import SVC\n",
        "from sklearn.neighbors import KNeighborsClassifier\n",
        "\n",
        "# Create LogisticRegression model\n",
        "lr = LogisticRegression(max_iter = 1000)\n",
        "\n",
        "# Train the model on the training data\n",
        "lr.fit(x_train, y_train)\n",
        "\n",
        "# Predict on the test data\n",
        "y_pred_lr = lr.predict(x_test)\n",
        "\n",
        "# Calculate accuracy\n",
        "accuracy_lr = accuracy_score(y_test, y_pred_lr)\n",
        "\n",
        "# Print accuracy\n",
        "print(\"Logistic Regression Accuracy on Test Data:\", accuracy_lr)\n",
        "\n",
        "# Create SVM model\n",
        "svm = SVC()\n",
        "\n",
        "# Train the model on the training data\n",
        "svm.fit(x_train, y_train)\n",
        "\n",
        "# Predict on the test data\n",
        "y_pred_svm = svm.predict(x_test)\n",
        "\n",
        "# Calculate accuracy\n",
        "accuracy_svm = accuracy_score(y_test, y_pred_svm)\n",
        "\n",
        "# Print accuracy\n",
        "print(\"SVM Accuracy on Test Data:\", accuracy_svm)\n",
        "\n",
        "# Create KNN model\n",
        "knn = KNeighborsClassifier()\n",
        "\n",
        "# Train the model on the training data\n",
        "knn.fit(x_train, y_train)\n",
        "\n",
        "# Predict on the test data\n",
        "y_pred_knn = knn.predict(x_test)\n",
        "\n",
        "# Calculate accuracy\n",
        "accuracy_knn = accuracy_score(y_test, y_pred_knn)\n",
        "\n",
        "# Print accuracy\n",
        "print(\"KNN Accuracy on Test Data:\", accuracy_knn)"
      ],
      "metadata": {
        "colab": {
          "base_uri": "https://localhost:8080/"
        },
        "id": "DKCAjG80nMps",
        "outputId": "d7283421-4534-4a3e-e2dd-52a476f12b58"
      },
      "execution_count": 49,
      "outputs": [
        {
          "output_type": "stream",
          "name": "stdout",
          "text": [
            "Logistic Regression Accuracy on Test Data: 0.3375\n",
            "SVM Accuracy on Test Data: 0.39166666666666666\n",
            "KNN Accuracy on Test Data: 0.35833333333333334\n"
          ]
        }
      ]
    },
    {
      "cell_type": "code",
      "source": [
        "import matplotlib.pyplot as plt\n",
        "from sklearn.neighbors import KNeighborsClassifier\n",
        "from sklearn import metrics\n",
        "\n",
        "k_values = np.arange(1, 25)\n",
        "test_accuracy = []\n",
        "\n",
        "for k in range(1, 25):\n",
        "    # Create KNN model with k neighbors\n",
        "    knn = KNeighborsClassifier(n_neighbors=k)\n",
        "\n",
        "    # Train the model on the training data\n",
        "    knn.fit(x_train, y_train)\n",
        "\n",
        "    # Predict on the test data\n",
        "    y_pred = knn.predict(x_test)\n",
        "\n",
        "    # Calculate accuracy\n",
        "    test_accuracy.append(metrics.accuracy_score(y_test, y_pred))\n",
        "\n",
        "# Plot the accuracy for different k values\n",
        "plt.figure(figsize=[6, 6])\n",
        "plt.plot(k_values, test_accuracy, label=\"Testing Accuracy\")\n",
        "plt.legend()\n",
        "plt.title(\"Accuracy vs. Number of Neighbors\")\n",
        "plt.xlabel(\"Number of Neighbors (k)\")\n",
        "plt.ylabel(\"Accuracy\")\n",
        "plt.xticks(k_values)\n",
        "plt.show()"
      ],
      "metadata": {
        "colab": {
          "base_uri": "https://localhost:8080/",
          "height": 564
        },
        "id": "LtyRXMg68dWO",
        "outputId": "321792d4-2428-42d0-b493-8497f54e3dba"
      },
      "execution_count": 23,
      "outputs": [
        {
          "output_type": "display_data",
          "data": {
            "text/plain": [
              "<Figure size 600x600 with 1 Axes>"
            ],
            "image/png": "[encoded data removed]"
          },
          "metadata": {}
        }
      ]
    },
    {
      "cell_type": "code",
      "source": [
        "# Validation accuracy for Logistic Regression\n",
        "y_pred_val_lr = lr.predict(x_val)\n",
        "accuracy_val_lr = accuracy_score(y_val, y_pred_val_lr)\n",
        "print(\"Logistic Regression Validation Accuracy:\", accuracy_val_lr)\n",
        "\n",
        "# Validation accuracy for SVM\n",
        "y_pred_val_svm = svm.predict(x_val)\n",
        "accuracy_val_svm = accuracy_score(y_val, y_pred_val_svm)\n",
        "print(\"SVM Validation Accuracy:\", accuracy_val_svm)\n",
        "\n",
        "# Validation accuracy for KNN\n",
        "y_pred_val_knn = knn.predict(x_val)\n",
        "accuracy_val_knn = accuracy_score(y_val, y_pred_val_knn)\n",
        "print(\"KNN Validation Accuracy:\", accuracy_val_knn)\n"
      ],
      "metadata": {
        "colab": {
          "base_uri": "https://localhost:8080/"
        },
        "id": "f9Agxw6UWf21",
        "outputId": "d797ab4b-76c1-4011-a45c-26385461d006"
      },
      "execution_count": 37,
      "outputs": [
        {
          "output_type": "stream",
          "name": "stdout",
          "text": [
            "Logistic Regression Validation Accuracy: 0.3768267223382046\n",
            "SVM Validation Accuracy: 0.3987473903966597\n",
            "KNN Validation Accuracy: 0.35386221294363257\n"
          ]
        }
      ]
    },
    {
      "cell_type": "code",
      "source": [
        "rfc = RandomForestClassifier(criterion = 'gini',random_state = 10)\n",
        "rfc.fit(x_train, y_train)\n",
        "y_pred_rf = rfc.predict(x_test)\n",
        "accuracy_rf = accuracy_score(y_test, y_pred_rf)\n",
        "print(\"Random Forest Accuracy on Test Data:\", accuracy_rf)"
      ],
      "metadata": {
        "colab": {
          "base_uri": "https://localhost:8080/"
        },
        "id": "rgWfbCQA3EmJ",
        "outputId": "b78f1d77-e412-434b-9ed7-08f5f2fe0e26"
      },
      "execution_count": 6,
      "outputs": [
        {
          "output_type": "stream",
          "name": "stdout",
          "text": [
            "Random Forest Accuracy on Test Data: 0.8666666666666667\n"
          ]
        }
      ]
    },
    {
      "cell_type": "code",
      "source": [
        "y_pred_rf_val = rfc.predict(x_val)\n",
        "accuracy_rf_val = accuracy_score(y_val, y_pred_rf_val)\n",
        "print(\"Random Forest Validation Accuracy:\", accuracy_rf_val)"
      ],
      "metadata": {
        "colab": {
          "base_uri": "https://localhost:8080/"
        },
        "id": "kdvrTm3_5WLM",
        "outputId": "35bec039-b82c-454c-c414-56de04c4e0ac"
      },
      "execution_count": 7,
      "outputs": [
        {
          "output_type": "stream",
          "name": "stdout",
          "text": [
            "Random Forest Validation Accuracy: 0.8716075156576201\n"
          ]
        }
      ]
    },
    {
      "cell_type": "code",
      "source": [
        "error_train = 1 - accuracy_rf\n",
        "error_val = 1 - accuracy_rf_val\n",
        "\n",
        "print(\"Random Forest Error on Train Data:\", error_train)\n",
        "print(\"Random Forest Error on Validation Data:\", error_val)\n"
      ],
      "metadata": {
        "colab": {
          "base_uri": "https://localhost:8080/"
        },
        "id": "_HG1HofHELeh",
        "outputId": "fb465553-f369-4bc0-c517-1bab0043c931"
      },
      "execution_count": 8,
      "outputs": [
        {
          "output_type": "stream",
          "name": "stdout",
          "text": [
            "Random Forest Error on Train Data: 0.1333333333333333\n",
            "Random Forest Error on Validation Data: 0.12839248434237993\n"
          ]
        }
      ]
    },
    {
      "cell_type": "code",
      "source": [
        "from sklearn.preprocessing import LabelEncoder\n",
        "from xgboost import XGBClassifier\n",
        "# Encode the target variable\n",
        "label_encoder = LabelEncoder()\n",
        "y_train1 = label_encoder.fit_transform(y_train)\n",
        "y_test1 = label_encoder.transform(y_test)\n",
        "\n",
        "xgb = XGBClassifier()\n",
        "xgb.fit(x_train, y_train1)\n",
        "y_pred_xgb = xgb.predict(x_test)\n",
        "accuracy_xgb = accuracy_score(y_test1, y_pred_xgb)\n",
        "print(\"XGBoost Accuracy on Test Data:\", accuracy_xgb)"
      ],
      "metadata": {
        "colab": {
          "base_uri": "https://localhost:8080/"
        },
        "id": "j-dy-VjK4aow",
        "outputId": "726f472d-1860-4911-ae75-a8e6ceca80e9"
      },
      "execution_count": 9,
      "outputs": [
        {
          "output_type": "stream",
          "name": "stdout",
          "text": [
            "XGBoost Accuracy on Test Data: 0.8708333333333333\n"
          ]
        }
      ]
    },
    {
      "cell_type": "code",
      "source": [
        "y_val1 = label_encoder.transform(y_val)\n",
        "y_pred_val_xgb = xgb.predict(x_val)\n",
        "accuracy_val_xgb = accuracy_score(y_val1, y_pred_val_xgb)\n",
        "print(\"XGBoost Validation Accuracy:\", accuracy_val_xgb)"
      ],
      "metadata": {
        "colab": {
          "base_uri": "https://localhost:8080/"
        },
        "id": "Gwl_iQGy5Ccg",
        "outputId": "0fcdd1e2-ddba-47f7-90fd-9464e34bc599"
      },
      "execution_count": 10,
      "outputs": [
        {
          "output_type": "stream",
          "name": "stdout",
          "text": [
            "XGBoost Validation Accuracy: 0.872651356993737\n"
          ]
        }
      ]
    },
    {
      "cell_type": "code",
      "source": [
        "from google.colab import drive\n",
        "drive.mount('/content/drive')"
      ],
      "metadata": {
        "colab": {
          "base_uri": "https://localhost:8080/"
        },
        "id": "P2LLjPibhaS8",
        "outputId": "9e9f6180-c3af-45e7-d0d3-93f7c62ed5cf"
      },
      "execution_count": 47,
      "outputs": [
        {
          "output_type": "stream",
          "name": "stdout",
          "text": [
            "Mounted at /content/drive\n"
          ]
        }
      ]
    },
    {
      "cell_type": "code",
      "source": [
        "import pickle\n",
        "\n",
        "# Save the XGBoost model\n",
        "with open('/content/drive/MyDrive/xgboost_model.pkl', 'wb') as file:\n",
        "    pickle.dump(xgb, file)\n",
        "\n",
        "# Save the label encoder\n",
        "with open('/content/drive/MyDrive/label_encoder.pkl', 'wb') as file:\n",
        "    pickle.dump(label_encoder, file)\n"
      ],
      "metadata": {
        "id": "_V_-igYYhJEY"
      },
      "execution_count": 48,
      "outputs": []
    }
  ]
}